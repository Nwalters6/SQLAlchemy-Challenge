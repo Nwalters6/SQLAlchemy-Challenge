{
 "cells": [
  {
   "cell_type": "code",
   "execution_count": 1,
   "metadata": {},
   "outputs": [],
   "source": [
    "# Dependencies\n",
    "import pandas as pd\n",
    "from sqlalchemy import create_engine\n",
    "from sqlalchemy.ext.declarative import declarative_base\n",
    "\n",
    "from sqlalchemy import Column, Integer, String, Float"
   ]
  },
  {
   "cell_type": "code",
   "execution_count": 2,
   "metadata": {},
   "outputs": [],
   "source": [
    "Base = declarative_base()"
   ]
  },
  {
   "cell_type": "code",
   "execution_count": 3,
   "metadata": {},
   "outputs": [],
   "source": [
    "#Bring in the clean CSV\n",
    "measurement = pd.read_csv(\"Data/clean_hawaii_measurement.csv\")\n",
    "station = pd.read_csv(\"Data/clean_hawaii_station.csv\")"
   ]
  },
  {
   "cell_type": "code",
   "execution_count": 4,
   "metadata": {},
   "outputs": [
    {
     "data": {
      "text/html": [
       "<div>\n",
       "<style scoped>\n",
       "    .dataframe tbody tr th:only-of-type {\n",
       "        vertical-align: middle;\n",
       "    }\n",
       "\n",
       "    .dataframe tbody tr th {\n",
       "        vertical-align: top;\n",
       "    }\n",
       "\n",
       "    .dataframe thead th {\n",
       "        text-align: right;\n",
       "    }\n",
       "</style>\n",
       "<table border=\"1\" class=\"dataframe\">\n",
       "  <thead>\n",
       "    <tr style=\"text-align: right;\">\n",
       "      <th></th>\n",
       "      <th>station</th>\n",
       "      <th>date</th>\n",
       "      <th>prcp</th>\n",
       "      <th>tobs</th>\n",
       "    </tr>\n",
       "  </thead>\n",
       "  <tbody>\n",
       "    <tr>\n",
       "      <th>0</th>\n",
       "      <td>USC00519397</td>\n",
       "      <td>2010-01-01</td>\n",
       "      <td>0.08</td>\n",
       "      <td>65</td>\n",
       "    </tr>\n",
       "    <tr>\n",
       "      <th>1</th>\n",
       "      <td>USC00519397</td>\n",
       "      <td>2010-01-02</td>\n",
       "      <td>0.00</td>\n",
       "      <td>63</td>\n",
       "    </tr>\n",
       "    <tr>\n",
       "      <th>2</th>\n",
       "      <td>USC00519397</td>\n",
       "      <td>2010-01-03</td>\n",
       "      <td>0.00</td>\n",
       "      <td>74</td>\n",
       "    </tr>\n",
       "    <tr>\n",
       "      <th>3</th>\n",
       "      <td>USC00519397</td>\n",
       "      <td>2010-01-04</td>\n",
       "      <td>0.00</td>\n",
       "      <td>76</td>\n",
       "    </tr>\n",
       "    <tr>\n",
       "      <th>4</th>\n",
       "      <td>USC00519397</td>\n",
       "      <td>2010-01-06</td>\n",
       "      <td>0.00</td>\n",
       "      <td>73</td>\n",
       "    </tr>\n",
       "  </tbody>\n",
       "</table>\n",
       "</div>"
      ],
      "text/plain": [
       "       station        date  prcp  tobs\n",
       "0  USC00519397  2010-01-01  0.08    65\n",
       "1  USC00519397  2010-01-02  0.00    63\n",
       "2  USC00519397  2010-01-03  0.00    74\n",
       "3  USC00519397  2010-01-04  0.00    76\n",
       "4  USC00519397  2010-01-06  0.00    73"
      ]
     },
     "execution_count": 4,
     "metadata": {},
     "output_type": "execute_result"
    }
   ],
   "source": [
    "#Look at the Data\n",
    "measurement.head()"
   ]
  },
  {
   "cell_type": "code",
   "execution_count": 5,
   "metadata": {},
   "outputs": [
    {
     "data": {
      "text/html": [
       "<div>\n",
       "<style scoped>\n",
       "    .dataframe tbody tr th:only-of-type {\n",
       "        vertical-align: middle;\n",
       "    }\n",
       "\n",
       "    .dataframe tbody tr th {\n",
       "        vertical-align: top;\n",
       "    }\n",
       "\n",
       "    .dataframe thead th {\n",
       "        text-align: right;\n",
       "    }\n",
       "</style>\n",
       "<table border=\"1\" class=\"dataframe\">\n",
       "  <thead>\n",
       "    <tr style=\"text-align: right;\">\n",
       "      <th></th>\n",
       "      <th>station</th>\n",
       "      <th>name</th>\n",
       "      <th>latitude</th>\n",
       "      <th>longitude</th>\n",
       "      <th>elevation</th>\n",
       "    </tr>\n",
       "  </thead>\n",
       "  <tbody>\n",
       "    <tr>\n",
       "      <th>0</th>\n",
       "      <td>USC00519397</td>\n",
       "      <td>WAIKIKI 717.2, HI US</td>\n",
       "      <td>21.2716</td>\n",
       "      <td>-157.8168</td>\n",
       "      <td>3.0</td>\n",
       "    </tr>\n",
       "    <tr>\n",
       "      <th>1</th>\n",
       "      <td>USC00513117</td>\n",
       "      <td>KANEOHE 838.1, HI US</td>\n",
       "      <td>21.4234</td>\n",
       "      <td>-157.8015</td>\n",
       "      <td>14.6</td>\n",
       "    </tr>\n",
       "    <tr>\n",
       "      <th>2</th>\n",
       "      <td>USC00514830</td>\n",
       "      <td>KUALOA RANCH HEADQUARTERS 886.9, HI US</td>\n",
       "      <td>21.5213</td>\n",
       "      <td>-157.8374</td>\n",
       "      <td>7.0</td>\n",
       "    </tr>\n",
       "    <tr>\n",
       "      <th>3</th>\n",
       "      <td>USC00517948</td>\n",
       "      <td>PEARL CITY, HI US</td>\n",
       "      <td>21.3934</td>\n",
       "      <td>-157.9751</td>\n",
       "      <td>11.9</td>\n",
       "    </tr>\n",
       "    <tr>\n",
       "      <th>4</th>\n",
       "      <td>USC00518838</td>\n",
       "      <td>UPPER WAHIAWA 874.3, HI US</td>\n",
       "      <td>21.4992</td>\n",
       "      <td>-158.0111</td>\n",
       "      <td>306.6</td>\n",
       "    </tr>\n",
       "  </tbody>\n",
       "</table>\n",
       "</div>"
      ],
      "text/plain": [
       "       station                                    name  latitude  longitude  \\\n",
       "0  USC00519397                    WAIKIKI 717.2, HI US   21.2716  -157.8168   \n",
       "1  USC00513117                    KANEOHE 838.1, HI US   21.4234  -157.8015   \n",
       "2  USC00514830  KUALOA RANCH HEADQUARTERS 886.9, HI US   21.5213  -157.8374   \n",
       "3  USC00517948                       PEARL CITY, HI US   21.3934  -157.9751   \n",
       "4  USC00518838              UPPER WAHIAWA 874.3, HI US   21.4992  -158.0111   \n",
       "\n",
       "   elevation  \n",
       "0        3.0  \n",
       "1       14.6  \n",
       "2        7.0  \n",
       "3       11.9  \n",
       "4      306.6  "
      ]
     },
     "execution_count": 5,
     "metadata": {},
     "output_type": "execute_result"
    }
   ],
   "source": [
    "station.head()"
   ]
  },
  {
   "cell_type": "code",
   "execution_count": 6,
   "metadata": {},
   "outputs": [],
   "source": [
    "#Creat the class for Measurement and Station\n",
    "class Measurement(Base):\n",
    "    __tablename__ = 'measurement'\n",
    "    id = Column(Integer, primary_key=True)\n",
    "    station = Column(String(255))\n",
    "    date = Column(String(255))\n",
    "    prcp = Column(Float(50))\n",
    "    tobs = Column(Float(50))\n",
    "\n",
    "class Station(Base):\n",
    "    __tablename__ = 'station'\n",
    "    id = Column(Integer, primary_key=True)\n",
    "    station = Column(String(255))\n",
    "    name = Column(String(255))\n",
    "    latitude = Column(Float(50))\n",
    "    longitude = Column(Float(50))\n",
    "    elevation = Column(Float(50))"
   ]
  },
  {
   "cell_type": "code",
   "execution_count": 7,
   "metadata": {},
   "outputs": [],
   "source": [
    "#Database Connection\n",
    "engine = create_engine('sqlite:///hawaii.sqlite')\n",
    "conn = engine.connect()"
   ]
  },
  {
   "cell_type": "code",
   "execution_count": 8,
   "metadata": {},
   "outputs": [],
   "source": [
    "#Make Tables\n",
    "Base.metadata.create_all(engine)"
   ]
  },
  {
   "cell_type": "code",
   "execution_count": 9,
   "metadata": {},
   "outputs": [
    {
     "data": {
      "text/plain": [
       "['measurement', 'station']"
      ]
     },
     "execution_count": 9,
     "metadata": {},
     "output_type": "execute_result"
    }
   ],
   "source": [
    "engine.table_names()"
   ]
  },
  {
   "cell_type": "code",
   "execution_count": 10,
   "metadata": {},
   "outputs": [],
   "source": [
    "#Make the session\n",
    "from sqlalchemy.orm import Session\n",
    "session = Session(bind=engine)"
   ]
  },
  {
   "cell_type": "code",
   "execution_count": 11,
   "metadata": {},
   "outputs": [],
   "source": [
    "#Add the Data\n",
    "measurement.to_sql(name='measurement', con=conn, if_exists='append', index=False)\n",
    "station.to_sql(name='station', con=conn, if_exists='append', index=False)"
   ]
  },
  {
   "cell_type": "code",
   "execution_count": 12,
   "metadata": {},
   "outputs": [
    {
     "name": "stdout",
     "output_type": "stream",
     "text": [
      "{'_sa_instance_state': <sqlalchemy.orm.state.InstanceState object at 0x1156a5d68>, 'longitude': -157.8168, 'latitude': 21.2716, 'station': 'USC00519397', 'elevation': 3.0, 'name': 'WAIKIKI 717.2, HI US', 'id': 1}\n",
      "{'_sa_instance_state': <sqlalchemy.orm.state.InstanceState object at 0x1103b5198>, 'longitude': -157.8015, 'latitude': 21.4234, 'station': 'USC00513117', 'elevation': 14.6, 'name': 'KANEOHE 838.1, HI US', 'id': 2}\n",
      "{'_sa_instance_state': <sqlalchemy.orm.state.InstanceState object at 0x1103b5e80>, 'longitude': -157.8374, 'latitude': 21.5213, 'station': 'USC00514830', 'elevation': 7.0, 'name': 'KUALOA RANCH HEADQUARTERS 886.9, HI US', 'id': 3}\n",
      "{'_sa_instance_state': <sqlalchemy.orm.state.InstanceState object at 0x1103b5c18>, 'longitude': -157.9751, 'latitude': 21.3934, 'station': 'USC00517948', 'elevation': 11.9, 'name': 'PEARL CITY, HI US', 'id': 4}\n",
      "{'_sa_instance_state': <sqlalchemy.orm.state.InstanceState object at 0x1103b5c50>, 'longitude': -158.0111, 'latitude': 21.4992, 'station': 'USC00518838', 'elevation': 306.6, 'name': 'UPPER WAHIAWA 874.3, HI US', 'id': 5}\n",
      "{'_sa_instance_state': <sqlalchemy.orm.state.InstanceState object at 0x1103b5fd0>, 'longitude': -157.71139, 'latitude': 21.33556, 'station': 'USC00519523', 'elevation': 19.5, 'name': 'WAIMANALO EXPERIMENTAL FARM, HI US', 'id': 6}\n",
      "{'_sa_instance_state': <sqlalchemy.orm.state.InstanceState object at 0x1103b5f60>, 'longitude': -157.84888999999998, 'latitude': 21.45167, 'station': 'USC00519281', 'elevation': 32.9, 'name': 'WAIHEE 837.5, HI US', 'id': 7}\n",
      "{'_sa_instance_state': <sqlalchemy.orm.state.InstanceState object at 0x1103b5b38>, 'longitude': -157.9992, 'latitude': 21.3152, 'station': 'USC00511918', 'elevation': 0.9, 'name': 'HONOLULU OBSERVATORY 702.2, HI US', 'id': 8}\n",
      "{'_sa_instance_state': <sqlalchemy.orm.state.InstanceState object at 0x1103b5a90>, 'longitude': -157.8025, 'latitude': 21.3331, 'station': 'USC00516128', 'elevation': 152.4, 'name': 'MANOA LYON ARBO 785.2, HI US', 'id': 9}\n",
      "{'_sa_instance_state': <sqlalchemy.orm.state.InstanceState object at 0x1103b5b70>, 'longitude': -157.8168, 'latitude': 21.2716, 'station': 'USC00519397', 'elevation': 3.0, 'name': 'WAIKIKI 717.2, HI US', 'id': 10}\n",
      "{'_sa_instance_state': <sqlalchemy.orm.state.InstanceState object at 0x1103b5ba8>, 'longitude': -157.8015, 'latitude': 21.4234, 'station': 'USC00513117', 'elevation': 14.6, 'name': 'KANEOHE 838.1, HI US', 'id': 11}\n",
      "{'_sa_instance_state': <sqlalchemy.orm.state.InstanceState object at 0x1103b54e0>, 'longitude': -157.8374, 'latitude': 21.5213, 'station': 'USC00514830', 'elevation': 7.0, 'name': 'KUALOA RANCH HEADQUARTERS 886.9, HI US', 'id': 12}\n",
      "{'_sa_instance_state': <sqlalchemy.orm.state.InstanceState object at 0x11697c160>, 'longitude': -157.9751, 'latitude': 21.3934, 'station': 'USC00517948', 'elevation': 11.9, 'name': 'PEARL CITY, HI US', 'id': 13}\n",
      "{'_sa_instance_state': <sqlalchemy.orm.state.InstanceState object at 0x11697c1d0>, 'longitude': -158.0111, 'latitude': 21.4992, 'station': 'USC00518838', 'elevation': 306.6, 'name': 'UPPER WAHIAWA 874.3, HI US', 'id': 14}\n",
      "{'_sa_instance_state': <sqlalchemy.orm.state.InstanceState object at 0x11697cc50>, 'longitude': -157.71139, 'latitude': 21.33556, 'station': 'USC00519523', 'elevation': 19.5, 'name': 'WAIMANALO EXPERIMENTAL FARM, HI US', 'id': 15}\n",
      "{'_sa_instance_state': <sqlalchemy.orm.state.InstanceState object at 0x11697ccf8>, 'longitude': -157.84888999999995, 'latitude': 21.45167, 'station': 'USC00519281', 'elevation': 32.9, 'name': 'WAIHEE 837.5, HI US', 'id': 16}\n",
      "{'_sa_instance_state': <sqlalchemy.orm.state.InstanceState object at 0x11697cda0>, 'longitude': -157.9992, 'latitude': 21.3152, 'station': 'USC00511918', 'elevation': 0.9, 'name': 'HONOLULU OBSERVATORY 702.2, HI US', 'id': 17}\n",
      "{'_sa_instance_state': <sqlalchemy.orm.state.InstanceState object at 0x11697ce48>, 'longitude': -157.8025, 'latitude': 21.3331, 'station': 'USC00516128', 'elevation': 152.4, 'name': 'MANOA LYON ARBO 785.2, HI US', 'id': 18}\n"
     ]
    }
   ],
   "source": [
    "#Query\n",
    "station_list = session.query(Station)\n",
    "for station in station_list:\n",
    "    print(station.__dict__)"
   ]
  },
  {
   "cell_type": "code",
   "execution_count": null,
   "metadata": {},
   "outputs": [],
   "source": []
  }
 ],
 "metadata": {
  "kernelspec": {
   "display_name": "Python 3",
   "language": "python",
   "name": "python3"
  },
  "language_info": {
   "codemirror_mode": {
    "name": "ipython",
    "version": 3
   },
   "file_extension": ".py",
   "mimetype": "text/x-python",
   "name": "python",
   "nbconvert_exporter": "python",
   "pygments_lexer": "ipython3",
   "version": "3.6.4"
  }
 },
 "nbformat": 4,
 "nbformat_minor": 2
}
